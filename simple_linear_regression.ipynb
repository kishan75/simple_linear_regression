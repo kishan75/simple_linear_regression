{
  "nbformat": 4,
  "nbformat_minor": 0,
  "metadata": {
    "colab": {
      "name": "simple linear regression",
      "provenance": [],
      "authorship_tag": "ABX9TyMbKTDOPoE/cNPq2/vL3YzF",
      "include_colab_link": true
    },
    "kernelspec": {
      "name": "python3",
      "display_name": "Python 3"
    },
    "language_info": {
      "name": "python"
    }
  },
  "cells": [
    {
      "cell_type": "markdown",
      "metadata": {
        "id": "view-in-github",
        "colab_type": "text"
      },
      "source": [
        "<a href=\"https://colab.research.google.com/github/kishan75/simple_linear_regression/blob/main/simple_linear_regression.ipynb\" target=\"_parent\"><img src=\"https://colab.research.google.com/assets/colab-badge.svg\" alt=\"Open In Colab\"/></a>"
      ]
    },
    {
      "cell_type": "code",
      "metadata": {
        "id": "aCbfiUUGaqBn"
      },
      "source": [
        "import pandas as pd\n",
        "import numpy as np\n",
        "import matplotlib.pyplot as plt"
      ],
      "execution_count": null,
      "outputs": []
    },
    {
      "cell_type": "code",
      "metadata": {
        "colab": {
          "base_uri": "https://localhost:8080/",
          "height": 346
        },
        "id": "IdNBAU3rfGKl",
        "outputId": "b82a1e28-5619-4f58-8ca8-93c4ae30d0bc"
      },
      "source": [
        "df = pd.read_csv('SimpleLinearRegression.csv')\n",
        "df.info()\n",
        "df.head()"
      ],
      "execution_count": null,
      "outputs": [
        {
          "output_type": "stream",
          "name": "stdout",
          "text": [
            "<class 'pandas.core.frame.DataFrame'>\n",
            "RangeIndex: 30 entries, 0 to 29\n",
            "Data columns (total 2 columns):\n",
            " #   Column           Non-Null Count  Dtype  \n",
            "---  ------           --------------  -----  \n",
            " 0   YearsExperience  30 non-null     float64\n",
            " 1   Salary           30 non-null     float64\n",
            "dtypes: float64(2)\n",
            "memory usage: 608.0 bytes\n"
          ]
        },
        {
          "output_type": "execute_result",
          "data": {
            "text/html": [
              "<div>\n",
              "<style scoped>\n",
              "    .dataframe tbody tr th:only-of-type {\n",
              "        vertical-align: middle;\n",
              "    }\n",
              "\n",
              "    .dataframe tbody tr th {\n",
              "        vertical-align: top;\n",
              "    }\n",
              "\n",
              "    .dataframe thead th {\n",
              "        text-align: right;\n",
              "    }\n",
              "</style>\n",
              "<table border=\"1\" class=\"dataframe\">\n",
              "  <thead>\n",
              "    <tr style=\"text-align: right;\">\n",
              "      <th></th>\n",
              "      <th>YearsExperience</th>\n",
              "      <th>Salary</th>\n",
              "    </tr>\n",
              "  </thead>\n",
              "  <tbody>\n",
              "    <tr>\n",
              "      <th>0</th>\n",
              "      <td>1.1</td>\n",
              "      <td>39343.0</td>\n",
              "    </tr>\n",
              "    <tr>\n",
              "      <th>1</th>\n",
              "      <td>1.3</td>\n",
              "      <td>46205.0</td>\n",
              "    </tr>\n",
              "    <tr>\n",
              "      <th>2</th>\n",
              "      <td>1.5</td>\n",
              "      <td>37731.0</td>\n",
              "    </tr>\n",
              "    <tr>\n",
              "      <th>3</th>\n",
              "      <td>2.0</td>\n",
              "      <td>43525.0</td>\n",
              "    </tr>\n",
              "    <tr>\n",
              "      <th>4</th>\n",
              "      <td>2.2</td>\n",
              "      <td>39891.0</td>\n",
              "    </tr>\n",
              "  </tbody>\n",
              "</table>\n",
              "</div>"
            ],
            "text/plain": [
              "   YearsExperience   Salary\n",
              "0              1.1  39343.0\n",
              "1              1.3  46205.0\n",
              "2              1.5  37731.0\n",
              "3              2.0  43525.0\n",
              "4              2.2  39891.0"
            ]
          },
          "metadata": {},
          "execution_count": 35
        }
      ]
    },
    {
      "cell_type": "code",
      "metadata": {
        "id": "B_jHNEtFidvK"
      },
      "source": [
        "def mean(x):\n",
        "  return float(sum(x))/float(len(x))"
      ],
      "execution_count": null,
      "outputs": []
    },
    {
      "cell_type": "code",
      "metadata": {
        "id": "VexPHJwxju1Y"
      },
      "source": [
        "def variance(x):\n",
        "  mean_x = mean(x)\n",
        "  dif_square_sum = sum([(a-mean_x)**2 for a in x])\n",
        "  return float(dif_square_sum)/(len(x)-1)"
      ],
      "execution_count": null,
      "outputs": []
    },
    {
      "cell_type": "code",
      "metadata": {
        "id": "CSjAjokGmdY8"
      },
      "source": [
        "def covariance(x,y):\n",
        "  mean_x = mean(x)\n",
        "  mean_y = mean(y)\n",
        "  dif_sum = sum([float((xi-mean_x))*float((yi-mean_y)) for xi,yi in zip(x,y)])\n",
        "  return dif_sum/(len(x)-1)"
      ],
      "execution_count": null,
      "outputs": []
    },
    {
      "cell_type": "code",
      "metadata": {
        "id": "CWC1xy5Fscvj"
      },
      "source": [
        "def regression_coefficient(x,y):\n",
        "  w1 = covariance(x,y)/float(variance(x))\n",
        "  w0 = mean(y) - float(w1*mean(x))\n",
        "  return w0,w1;"
      ],
      "execution_count": null,
      "outputs": []
    },
    {
      "cell_type": "code",
      "metadata": {
        "colab": {
          "base_uri": "https://localhost:8080/",
          "height": 264
        },
        "id": "Nu8m3ftfgx4e",
        "outputId": "675b8f4d-d600-4e97-cec2-c21912f7f8fb"
      },
      "source": [
        "def simple_regression(x,y):\n",
        "  w0 , w1 = regression_coefficient(x,y)\n",
        "  predicted = [float(w0 + float(xi*w1)) for xi in x]\n",
        "  return predicted\n",
        "\n",
        "x1 = df['YearsExperience']\n",
        "y1 = df['Salary']\n",
        "predicted_y = simple_regression(x1,y1)\n",
        "\n",
        "plt.plot(x1, y1, label = \"original y\")\n",
        "plt.plot(x1, predicted_y, label = \"predicted y\")\n",
        "\n",
        "plt.legend()\n",
        " \n",
        "plt.show()\n"
      ],
      "execution_count": null,
      "outputs": [
        {
          "output_type": "display_data",
          "data": {
            "image/png": "[encoded data removed]",
            "text/plain": [
              "<Figure size 432x288 with 1 Axes>"
            ]
          },
          "metadata": {
            "needs_background": "light"
          }
        }
      ]
    },
    {
      "cell_type": "code",
      "metadata": {
        "colab": {
          "base_uri": "https://localhost:8080/"
        },
        "id": "ttbY7THTv3Et",
        "outputId": "2ee80623-61f5-44ef-dd6a-79f48ce45d49"
      },
      "source": [
        "def predict_value_from_data(x_list,y_list,x):\n",
        "  w0,w1 = regression_coefficient(x_list,y_list)\n",
        "  return float(w0 + float(x*w1))\n",
        "\n",
        "predicted_value=predict_value_from_data(x1,y1,2)\n",
        "\n",
        "print(predicted_value)\n"
      ],
      "execution_count": null,
      "outputs": [
        {
          "output_type": "stream",
          "name": "stdout",
          "text": [
            "44692.12484157884\n"
          ]
        }
      ]
    }
  ]
}